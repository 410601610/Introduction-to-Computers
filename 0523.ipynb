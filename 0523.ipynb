{
  "nbformat": 4,
  "nbformat_minor": 0,
  "metadata": {
    "colab": {
      "name": "0523.ipynb",
      "provenance": [],
      "authorship_tag": "ABX9TyNzEVGFCqFLsHTA8eYt+Pfa",
      "include_colab_link": true
    },
    "kernelspec": {
      "name": "python3",
      "display_name": "Python 3"
    },
    "language_info": {
      "name": "python"
    }
  },
  "cells": [
    {
      "cell_type": "markdown",
      "metadata": {
        "id": "view-in-github",
        "colab_type": "text"
      },
      "source": [
        "<a href=\"https://colab.research.google.com/github/410601610/Introduction-to-Computers/blob/main/0523.ipynb\" target=\"_parent\"><img src=\"https://colab.research.google.com/assets/colab-badge.svg\" alt=\"Open In Colab\"/></a>"
      ]
    },
    {
      "cell_type": "code",
      "execution_count": 24,
      "metadata": {
        "colab": {
          "base_uri": "https://localhost:8080/"
        },
        "id": "_km6b0zI-7Bz",
        "outputId": "f0149263-ea7d-47a4-b406-de33efb6c44c"
      },
      "outputs": [
        {
          "output_type": "stream",
          "name": "stdout",
          "text": [
            "0523\n"
          ]
        }
      ],
      "source": [
        "print(\"0523\")"
      ]
    },
    {
      "cell_type": "code",
      "source": [
        "sum = 0\n",
        "test = int(input('請輸入一個正整數: '))\n",
        "for n in range(1,test+1):\n",
        "  sum = sum+n\n",
        "print('1到',test,'的正整數',sum)\n"
      ],
      "metadata": {
        "colab": {
          "base_uri": "https://localhost:8080/"
        },
        "id": "k61lIOZY_EiB",
        "outputId": "543d7d3e-9fb3-42e5-c0f5-f950d1abec1e"
      },
      "execution_count": 4,
      "outputs": [
        {
          "output_type": "stream",
          "name": "stdout",
          "text": [
            "請輸入一個正整數: 10\n",
            "1到 10 的正整數 55\n"
          ]
        }
      ]
    },
    {
      "cell_type": "code",
      "source": [
        "sum = 0\n",
        "test = int(input('請輸入一個正整數: '))\n",
        "for m in range(1,test+1):\n",
        "  sum = sum+m\n",
        "  print('1到',str(m),'的正整數',sum)\n"
      ],
      "metadata": {
        "colab": {
          "base_uri": "https://localhost:8080/"
        },
        "id": "Y1v8G6wcACDt",
        "outputId": "afeb322d-32fe-4fe3-f954-9013dcbb7da3"
      },
      "execution_count": 7,
      "outputs": [
        {
          "output_type": "stream",
          "name": "stdout",
          "text": [
            "請輸入一個正整數: 50\n",
            "1到 1 的正整數 1\n",
            "1到 2 的正整數 3\n",
            "1到 3 的正整數 6\n",
            "1到 4 的正整數 10\n",
            "1到 5 的正整數 15\n",
            "1到 6 的正整數 21\n",
            "1到 7 的正整數 28\n",
            "1到 8 的正整數 36\n",
            "1到 9 的正整數 45\n",
            "1到 10 的正整數 55\n",
            "1到 11 的正整數 66\n",
            "1到 12 的正整數 78\n",
            "1到 13 的正整數 91\n",
            "1到 14 的正整數 105\n",
            "1到 15 的正整數 120\n",
            "1到 16 的正整數 136\n",
            "1到 17 的正整數 153\n",
            "1到 18 的正整數 171\n",
            "1到 19 的正整數 190\n",
            "1到 20 的正整數 210\n",
            "1到 21 的正整數 231\n",
            "1到 22 的正整數 253\n",
            "1到 23 的正整數 276\n",
            "1到 24 的正整數 300\n",
            "1到 25 的正整數 325\n",
            "1到 26 的正整數 351\n",
            "1到 27 的正整數 378\n",
            "1到 28 的正整數 406\n",
            "1到 29 的正整數 435\n",
            "1到 30 的正整數 465\n",
            "1到 31 的正整數 496\n",
            "1到 32 的正整數 528\n",
            "1到 33 的正整數 561\n",
            "1到 34 的正整數 595\n",
            "1到 35 的正整數 630\n",
            "1到 36 的正整數 666\n",
            "1到 37 的正整數 703\n",
            "1到 38 的正整數 741\n",
            "1到 39 的正整數 780\n",
            "1到 40 的正整數 820\n",
            "1到 41 的正整數 861\n",
            "1到 42 的正整數 903\n",
            "1到 43 的正整數 946\n",
            "1到 44 的正整數 990\n",
            "1到 45 的正整數 1035\n",
            "1到 46 的正整數 1081\n",
            "1到 47 的正整數 1128\n",
            "1到 48 的正整數 1176\n",
            "1到 49 的正整數 1225\n",
            "1到 50 的正整數 1275\n"
          ]
        }
      ]
    },
    {
      "cell_type": "code",
      "source": [
        "for j in range(1,5):\n",
        "  print(j)\n",
        "  for i in range(1,3):\n",
        "    k=i*j\n",
        "    print(j,\"*\",i,\"=\",k)"
      ],
      "metadata": {
        "colab": {
          "base_uri": "https://localhost:8080/"
        },
        "id": "DW7rKgL-CK-L",
        "outputId": "7cffc33b-473a-4bd2-88b1-e6048ceb612f"
      },
      "execution_count": 12,
      "outputs": [
        {
          "output_type": "stream",
          "name": "stdout",
          "text": [
            "1\n",
            "1 * 1 = 1\n",
            "1 * 2 = 2\n",
            "2\n",
            "2 * 1 = 2\n",
            "2 * 2 = 4\n",
            "3\n",
            "3 * 1 = 3\n",
            "3 * 2 = 6\n",
            "4\n",
            "4 * 1 = 4\n",
            "4 * 2 = 8\n"
          ]
        }
      ]
    },
    {
      "cell_type": "code",
      "source": [
        "for j in range(1,6):\n",
        "  print(j)\n",
        "  for i in range(1,3):\n",
        "    k=i*j\n",
        "    print(j,\"*\",i,\"=\",k)"
      ],
      "metadata": {
        "colab": {
          "base_uri": "https://localhost:8080/"
        },
        "id": "koN134cND1Xc",
        "outputId": "de060aef-ca56-4250-b131-c2c4fed19646"
      },
      "execution_count": 13,
      "outputs": [
        {
          "output_type": "stream",
          "name": "stdout",
          "text": [
            "1\n",
            "1 * 1 = 1\n",
            "1 * 2 = 2\n",
            "2\n",
            "2 * 1 = 2\n",
            "2 * 2 = 4\n",
            "3\n",
            "3 * 1 = 3\n",
            "3 * 2 = 6\n",
            "4\n",
            "4 * 1 = 4\n",
            "4 * 2 = 8\n",
            "5\n",
            "5 * 1 = 5\n",
            "5 * 2 = 10\n"
          ]
        }
      ]
    },
    {
      "cell_type": "code",
      "source": [
        "for i in range(1,5):\n",
        "  if (i==4):\n",
        "    break\n",
        "  print(i,end=\" \")"
      ],
      "metadata": {
        "colab": {
          "base_uri": "https://localhost:8080/"
        },
        "id": "RgTuyrMuET3N",
        "outputId": "7e4c2545-0056-46a0-f050-800e0f0721fe"
      },
      "execution_count": 15,
      "outputs": [
        {
          "output_type": "stream",
          "name": "stdout",
          "text": [
            "1 2 3 "
          ]
        }
      ]
    },
    {
      "cell_type": "code",
      "source": [
        "for i in range(1,5):\n",
        "  if(i==4):\n",
        "    continue\n",
        "  print(i,end=\" \")"
      ],
      "metadata": {
        "colab": {
          "base_uri": "https://localhost:8080/"
        },
        "id": "aFjJAlKpE9TW",
        "outputId": "01954feb-9b72-4f7b-e858-064213974f9d"
      },
      "execution_count": 16,
      "outputs": [
        {
          "output_type": "stream",
          "name": "stdout",
          "text": [
            "1 2 3 "
          ]
        }
      ]
    },
    {
      "cell_type": "code",
      "source": [
        "conunt = 0\n",
        "for string in \"測試看看!\":\n",
        "  conunt+=1\n",
        "  if string ==\"看\":\n",
        "    break\n",
        "  print(string)\n",
        "print(\"迴圈結束!\" )\n",
        "print(\"迴圈執行了 %d 次\" %conunt)"
      ],
      "metadata": {
        "colab": {
          "base_uri": "https://localhost:8080/"
        },
        "id": "WjhdjAEOFuey",
        "outputId": "e77ff47d-9cb3-45d4-9e2a-abf868c6dfc3"
      },
      "execution_count": 18,
      "outputs": [
        {
          "output_type": "stream",
          "name": "stdout",
          "text": [
            "測\n",
            "試\n",
            "迴圈結束!\n",
            "迴圈執行了 3 次\n"
          ]
        }
      ]
    },
    {
      "cell_type": "code",
      "source": [
        "conunt = 0\n",
        "for string in \"apple!\":\n",
        "  conunt+=1\n",
        "  if string ==\"l\":\n",
        "    break\n",
        "  print(string)\n",
        "print(\"迴圈結束!\" )\n",
        "print(\"迴圈執行了 %d 次\" %conunt)"
      ],
      "metadata": {
        "colab": {
          "base_uri": "https://localhost:8080/"
        },
        "id": "afxtACo0HiUM",
        "outputId": "819b2495-6110-4139-b974-542c05e6168a"
      },
      "execution_count": 20,
      "outputs": [
        {
          "output_type": "stream",
          "name": "stdout",
          "text": [
            "a\n",
            "p\n",
            "p\n",
            "迴圈結束!\n",
            "迴圈執行了 4 次\n"
          ]
        }
      ]
    },
    {
      "cell_type": "code",
      "source": [
        "for i in range(1,10):\n",
        "  for j in range(1,10):\n",
        "    print(f\"{j}*{i}={j*i}\",end=\"\\t\")\n",
        "  print()"
      ],
      "metadata": {
        "colab": {
          "base_uri": "https://localhost:8080/"
        },
        "id": "GiwvGASSIVqt",
        "outputId": "6b945f1b-8d50-48d3-8794-1d81a88c56f3"
      },
      "execution_count": 21,
      "outputs": [
        {
          "output_type": "stream",
          "name": "stdout",
          "text": [
            "1*1=1\t2*1=2\t3*1=3\t4*1=4\t5*1=5\t6*1=6\t7*1=7\t8*1=8\t9*1=9\t\n",
            "1*2=2\t2*2=4\t3*2=6\t4*2=8\t5*2=10\t6*2=12\t7*2=14\t8*2=16\t9*2=18\t\n",
            "1*3=3\t2*3=6\t3*3=9\t4*3=12\t5*3=15\t6*3=18\t7*3=21\t8*3=24\t9*3=27\t\n",
            "1*4=4\t2*4=8\t3*4=12\t4*4=16\t5*4=20\t6*4=24\t7*4=28\t8*4=32\t9*4=36\t\n",
            "1*5=5\t2*5=10\t3*5=15\t4*5=20\t5*5=25\t6*5=30\t7*5=35\t8*5=40\t9*5=45\t\n",
            "1*6=6\t2*6=12\t3*6=18\t4*6=24\t5*6=30\t6*6=36\t7*6=42\t8*6=48\t9*6=54\t\n",
            "1*7=7\t2*7=14\t3*7=21\t4*7=28\t5*7=35\t6*7=42\t7*7=49\t8*7=56\t9*7=63\t\n",
            "1*8=8\t2*8=16\t3*8=24\t4*8=32\t5*8=40\t6*8=48\t7*8=56\t8*8=64\t9*8=72\t\n",
            "1*9=9\t2*9=18\t3*9=27\t4*9=36\t5*9=45\t6*9=54\t7*9=63\t8*9=72\t9*9=81\t\n"
          ]
        }
      ]
    },
    {
      "cell_type": "code",
      "source": [
        "a=int(input('請輸入 a 的值: '))\n",
        "b=int(input('請輸入 b 的值: '))\n",
        "for i in range(1,(a*b)+1):\n",
        "  if(i % a == 0 and i % b == 0 ):\n",
        "    break\n",
        "print(\"最小公倍數 = %d \" % (i))"
      ],
      "metadata": {
        "colab": {
          "base_uri": "https://localhost:8080/"
        },
        "id": "wY6bnS5PIbza",
        "outputId": "4584e9ba-a2fe-4ca2-f071-1a72355f2c88"
      },
      "execution_count": 26,
      "outputs": [
        {
          "output_type": "stream",
          "name": "stdout",
          "text": [
            "請輸入 a 的值: 4\n",
            "請輸入 b 的值: 6\n",
            "最小公倍數 = 12 \n"
          ]
        }
      ]
    },
    {
      "cell_type": "code",
      "source": [
        "num = int(input(\"輸入正整數: \"))\n",
        "for n in range(1,num+1):\n",
        "  if (n%5==0):\n",
        "    continue\n",
        "  print(n)"
      ],
      "metadata": {
        "colab": {
          "base_uri": "https://localhost:8080/"
        },
        "id": "ADuI5iAiOkTo",
        "outputId": "58385e9f-489e-4681-e7d4-c41dee4ee85c"
      },
      "execution_count": 28,
      "outputs": [
        {
          "output_type": "stream",
          "name": "stdout",
          "text": [
            "輸入正整數: 12\n",
            "1\n",
            "2\n",
            "3\n",
            "4\n",
            "6\n",
            "7\n",
            "8\n",
            "9\n",
            "11\n",
            "12\n"
          ]
        }
      ]
    }
  ]
}