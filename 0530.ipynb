{
  "nbformat": 4,
  "nbformat_minor": 0,
  "metadata": {
    "colab": {
      "name": "0530.ipynb",
      "provenance": [],
      "authorship_tag": "ABX9TyNIWrqtusI9pWhkgNrLv1Jt",
      "include_colab_link": true
    },
    "kernelspec": {
      "name": "python3",
      "display_name": "Python 3"
    },
    "language_info": {
      "name": "python"
    }
  },
  "cells": [
    {
      "cell_type": "markdown",
      "metadata": {
        "id": "view-in-github",
        "colab_type": "text"
      },
      "source": [
        "<a href=\"https://colab.research.google.com/github/410601610/Introduction-to-Computers/blob/main/0530.ipynb\" target=\"_parent\"><img src=\"https://colab.research.google.com/assets/colab-badge.svg\" alt=\"Open In Colab\"/></a>"
      ]
    },
    {
      "cell_type": "code",
      "execution_count": 1,
      "metadata": {
        "colab": {
          "base_uri": "https://localhost:8080/"
        },
        "id": "vno5vdilBgxG",
        "outputId": "1c14015c-3359-4b75-bf75-bd17d6fd6e6f"
      },
      "outputs": [
        {
          "output_type": "stream",
          "name": "stdout",
          "text": [
            "0530\n"
          ]
        }
      ],
      "source": [
        "print(\"0530\")"
      ]
    },
    {
      "cell_type": "markdown",
      "source": [
        "九九乘法"
      ],
      "metadata": {
        "id": "BF6CxG5aB0KB"
      }
    },
    {
      "cell_type": "code",
      "source": [
        "for i in range(2,10):\n",
        "  for j in range(1,10):\n",
        "    product = i+j\n",
        "    print(\"%d*%d=%2d   \" % (i, j, product), end=\"\")\n",
        "  print()"
      ],
      "metadata": {
        "colab": {
          "base_uri": "https://localhost:8080/"
        },
        "id": "qFkbEOESByIB",
        "outputId": "ced6e603-b795-4537-f22c-a085b232a9ca"
      },
      "execution_count": 6,
      "outputs": [
        {
          "output_type": "stream",
          "name": "stdout",
          "text": [
            "2*1= 3   2*2= 4   2*3= 5   2*4= 6   2*5= 7   2*6= 8   2*7= 9   2*8=10   2*9=11   \n",
            "3*1= 4   3*2= 5   3*3= 6   3*4= 7   3*5= 8   3*6= 9   3*7=10   3*8=11   3*9=12   \n",
            "4*1= 5   4*2= 6   4*3= 7   4*4= 8   4*5= 9   4*6=10   4*7=11   4*8=12   4*9=13   \n",
            "5*1= 6   5*2= 7   5*3= 8   5*4= 9   5*5=10   5*6=11   5*7=12   5*8=13   5*9=14   \n",
            "6*1= 7   6*2= 8   6*3= 9   6*4=10   6*5=11   6*6=12   6*7=13   6*8=14   6*9=15   \n",
            "7*1= 8   7*2= 9   7*3=10   7*4=11   7*5=12   7*6=13   7*7=14   7*8=15   7*9=16   \n",
            "8*1= 9   8*2=10   8*3=11   8*4=12   8*5=13   8*6=14   8*7=15   8*8=16   8*9=17   \n",
            "9*1=10   9*2=11   9*3=12   9*4=13   9*5=14   9*6=15   9*7=16   9*8=17   9*9=18   \n"
          ]
        }
      ]
    },
    {
      "cell_type": "code",
      "source": [
        "a = int(input(\"請輸入a的值\"))\n",
        "b = int(input(\"請輸入b的值\"))\n",
        "\n",
        "maxno = a * b\n",
        "for i in range(1,maxno+1):\n",
        "  if(i % a == 0 and i % b ==0):\n",
        "    break\n",
        "print(\"%d和 %d的最小公倍數 = %d\" %(a,b,i))\n"
      ],
      "metadata": {
        "colab": {
          "base_uri": "https://localhost:8080/"
        },
        "id": "_IsgSF1LDlux",
        "outputId": "caef5d0c-b299-43ca-fcba-f961721258ed"
      },
      "execution_count": 7,
      "outputs": [
        {
          "output_type": "stream",
          "name": "stdout",
          "text": [
            "請輸入a的值4\n",
            "請輸入b的值5\n",
            "4和 5的最小公倍數 = 20\n"
          ]
        }
      ]
    },
    {
      "cell_type": "code",
      "source": [
        "n = int(input(\"請輸入正整數: \"))\n",
        "for i in range(1,n+1):\n",
        "  if i % 5 ==0:\n",
        "     continue\n",
        "  print(i,end=\" \")"
      ],
      "metadata": {
        "colab": {
          "base_uri": "https://localhost:8080/"
        },
        "id": "B61yn3ynGUIn",
        "outputId": "3905aad0-b95b-494f-dcf0-46ed57618d92"
      },
      "execution_count": 8,
      "outputs": [
        {
          "output_type": "stream",
          "name": "stdout",
          "text": [
            "請輸入正整數: 21\n",
            "1 2 3 4 6 7 8 9 11 12 13 14 16 17 18 19 21 "
          ]
        }
      ]
    },
    {
      "cell_type": "code",
      "source": [
        "total = n = 0\n",
        "while(n<= 10):\n",
        "  total += n\n",
        "  n += 1\n",
        "print(total)"
      ],
      "metadata": {
        "colab": {
          "base_uri": "https://localhost:8080/"
        },
        "id": "6-6woEc5Duj-",
        "outputId": "15c242dd-6981-4728-ffa4-57415e8e0fbc"
      },
      "execution_count": 9,
      "outputs": [
        {
          "output_type": "stream",
          "name": "stdout",
          "text": [
            "55\n"
          ]
        }
      ]
    },
    {
      "cell_type": "code",
      "source": [
        "total = n = 0\n",
        "while n<= 10:\n",
        "  total += n\n",
        "  n += 1\n",
        "print(total)"
      ],
      "metadata": {
        "colab": {
          "base_uri": "https://localhost:8080/"
        },
        "id": "IyHs6QeWIrGj",
        "outputId": "7fc7eeda-52e8-4658-91fe-22369e095831"
      },
      "execution_count": 10,
      "outputs": [
        {
          "output_type": "stream",
          "name": "stdout",
          "text": [
            "55\n"
          ]
        }
      ]
    },
    {
      "cell_type": "code",
      "source": [
        "total = n = 0\n",
        "while n<= 10:\n",
        "  total += n\n",
        "  n += 1\n",
        "print(total)"
      ],
      "metadata": {
        "colab": {
          "base_uri": "https://localhost:8080/"
        },
        "id": "A7A7UkMvJ-5t",
        "outputId": "0c377577-9579-4176-8d84-bc05dee540a2"
      },
      "execution_count": 12,
      "outputs": [
        {
          "output_type": "stream",
          "name": "stdout",
          "text": [
            "55\n"
          ]
        }
      ]
    },
    {
      "cell_type": "code",
      "source": [
        "total = i = 1\n",
        "n = int(input(\"請輸入正整數n的值: \"))\n",
        "while i <=n:\n",
        "  total *= i\n",
        "  i+=1\n",
        "print(\"%d!=%d\" %(n,total))"
      ],
      "metadata": {
        "colab": {
          "base_uri": "https://localhost:8080/"
        },
        "id": "NKdXA11yKtRE",
        "outputId": "e99eb3ce-acae-41d2-b2fd-7e9a57b77cc9"
      },
      "execution_count": 13,
      "outputs": [
        {
          "output_type": "stream",
          "name": "stdout",
          "text": [
            "請輸入正整數n的值: 5\n",
            "5!=120\n"
          ]
        }
      ]
    },
    {
      "cell_type": "code",
      "source": [
        "n = 1\n",
        "total = 0\n",
        "while n <= 50:\n",
        "  total += n\n",
        "  n +=2\n",
        "print('0~50的奇數和結果是%d' %(total))\n",
        "\n",
        "b = 0\n",
        "totalb = 0\n",
        "while b <= 50:\n",
        "  totalb += b\n",
        "  b +=2\n",
        "print('0~50的偶數和結果是%d' %(totalb))\n"
      ],
      "metadata": {
        "colab": {
          "base_uri": "https://localhost:8080/"
        },
        "id": "lzEP3vqdQLJr",
        "outputId": "356141a1-a40b-4355-a3d9-813616fe556d"
      },
      "execution_count": 14,
      "outputs": [
        {
          "output_type": "stream",
          "name": "stdout",
          "text": [
            "0~50的奇數和結果是625\n",
            "0~50的偶數和結果是650\n"
          ]
        }
      ]
    },
    {
      "cell_type": "code",
      "source": [
        "n = eval(input(\"請輸入正整數: \"))\n",
        "for i in range(n):\n",
        "  print((n-i)*'*')"
      ],
      "metadata": {
        "colab": {
          "base_uri": "https://localhost:8080/"
        },
        "id": "jAs0vcitRXup",
        "outputId": "c58c734b-1786-47a7-d5c2-4b234034ee31"
      },
      "execution_count": 24,
      "outputs": [
        {
          "output_type": "stream",
          "name": "stdout",
          "text": [
            "請輸入正整數: 7\n",
            "*******\n",
            "******\n",
            "*****\n",
            "****\n",
            "***\n",
            "**\n",
            "*\n"
          ]
        }
      ]
    },
    {
      "cell_type": "code",
      "source": [
        "n = eval(input(\"請輸入正整數: \"))\n",
        "for i in range(n):\n",
        "  print((n-i)*'*')"
      ],
      "metadata": {
        "colab": {
          "base_uri": "https://localhost:8080/"
        },
        "id": "Fao6F4hZUkiy",
        "outputId": "6a7519ab-a6ff-463a-de9b-dd17a15e21ad"
      },
      "execution_count": 25,
      "outputs": [
        {
          "output_type": "stream",
          "name": "stdout",
          "text": [
            "請輸入正整數: 5\n",
            "*****\n",
            "****\n",
            "***\n",
            "**\n",
            "*\n"
          ]
        }
      ]
    },
    {
      "cell_type": "code",
      "source": [
        "sum = 0\n",
        "n = int(input(\"請輸入正整數: \"))\n",
        "for i in range(1,n+1):\n",
        "  if i % 3==0 or i % 7 ==0:\n",
        "    sum +=i\n",
        "print(\"1到%d中3到7的倍數總和%d\"%(n,sum))"
      ],
      "metadata": {
        "colab": {
          "base_uri": "https://localhost:8080/"
        },
        "id": "IN6b_QU3Uplh",
        "outputId": "071fb5d2-d140-4a54-f190-770eb2b3b047"
      },
      "execution_count": 26,
      "outputs": [
        {
          "output_type": "stream",
          "name": "stdout",
          "text": [
            "請輸入正整數: 100\n",
            "1到100中3到7的倍數總和2208\n"
          ]
        }
      ]
    },
    {
      "cell_type": "code",
      "source": [
        "num =[]\n",
        "n = int(input(\"請輸入正整數: \"))\n",
        "fac = {}\n",
        "for i in range(1,n+1):\n",
        "  if n % i == 0:\n",
        "    num.append(i)\n",
        "print(n,\"的因數有\",num)\n",
        " \n",
        "if n>1:\n",
        "  for i in range(2,int(n/2)+1):\n",
        "    if (n%i)==0:\n",
        "      print(\"這不是質數\")\n",
        "      break\n",
        "    else:\n",
        "      print(\"這是質數\")\n",
        "else:\n",
        "  print(\"這不是質數\")"
      ],
      "metadata": {
        "colab": {
          "base_uri": "https://localhost:8080/"
        },
        "id": "b4oOPao2VWag",
        "outputId": "d75f81b2-998e-458c-b70d-2ff5056ec950"
      },
      "execution_count": 39,
      "outputs": [
        {
          "output_type": "stream",
          "name": "stdout",
          "text": [
            "請輸入正整數: 12\n",
            "12 的因數有 [1, 2, 3, 4, 6, 12]\n",
            "這不是質數\n"
          ]
        }
      ]
    },
    {
      "cell_type": "code",
      "source": [
        "num =[]\n",
        "n = int(input(\"請輸入正整數: \"))\n",
        "fac = {}\n",
        "for i in range(1,n+1):\n",
        "  if n % i == 0:\n",
        "    num.append(i)\n",
        "print(n,\"的因數有\",num)\n",
        " \n",
        "if n>1:\n",
        "  for i in range(2,int(n/2)+1):\n",
        "    if (n%i)==0:\n",
        "      print(\"這不是質數\")\n",
        "      break\n",
        "    else:\n",
        "      print(\"這是質數\")\n",
        "else:\n",
        "  print(\"這不是質數\")"
      ],
      "metadata": {
        "id": "VNheb_-tei-6",
        "outputId": "957a4273-b22c-4e46-87a3-5bb44c89041c",
        "colab": {
          "base_uri": "https://localhost:8080/"
        }
      },
      "execution_count": 40,
      "outputs": [
        {
          "output_type": "stream",
          "name": "stdout",
          "text": [
            "請輸入正整數: 11\n",
            "11 的因數有 [1, 11]\n",
            "這是質數\n",
            "這是質數\n",
            "這是質數\n",
            "這是質數\n"
          ]
        }
      ]
    }
  ]
}