{
  "nbformat": 4,
  "nbformat_minor": 0,
  "metadata": {
    "colab": {
      "name": "Untitled0.ipynb",
      "provenance": [],
      "authorship_tag": "ABX9TyMFUViMtZwZ4oaQrhjTXpVB",
      "include_colab_link": true
    },
    "kernelspec": {
      "name": "python3",
      "display_name": "Python 3"
    },
    "language_info": {
      "name": "python"
    }
  },
  "cells": [
    {
      "cell_type": "markdown",
      "metadata": {
        "id": "view-in-github",
        "colab_type": "text"
      },
      "source": [
        "<a href=\"https://colab.research.google.com/github/410601610/Introduction-to-Computers/blob/main/Untitled0.ipynb\" target=\"_parent\"><img src=\"https://colab.research.google.com/assets/colab-badge.svg\" alt=\"Open In Colab\"/></a>"
      ]
    },
    {
      "cell_type": "code",
      "execution_count": 3,
      "metadata": {
        "colab": {
          "base_uri": "https://localhost:8080/"
        },
        "id": "5zUDq0vNcdkH",
        "outputId": "f9439082-d1f0-402c-b63a-202a8e74d02e"
      },
      "outputs": [
        {
          "output_type": "stream",
          "name": "stdout",
          "text": [
            "80\n",
            "{'類型': '近戰', 'atk': 80, 'hp': 1300, '護甲': 16}\n",
            "16\n"
          ]
        }
      ],
      "source": [
        "minion={\"類型\":\"近戰\",\"atk\":80,\"hp\":1300}\n",
        "print(minion[\"atk\"])\n",
        "minion[\"護甲\"]=16\n",
        "print(minion)\n",
        "print(minion[\"護甲\"])"
      ]
    },
    {
      "cell_type": "code",
      "source": [
        "warrior_minion={\"atk\":80,\"hp\":1300,\"def\":16}\n",
        "distance_minion={\"atk\":120,\"hp\":485,\"def\":0}\n",
        "\n",
        "minions={\"近戰\":warrior_minion,\"遠程\":distance_minion}\n",
        "print(minions)"
      ],
      "metadata": {
        "colab": {
          "base_uri": "https://localhost:8080/"
        },
        "id": "OIg-bna7deJk",
        "outputId": "12d6be92-89b5-4275-e5ce-a74615e009b3"
      },
      "execution_count": 6,
      "outputs": [
        {
          "output_type": "stream",
          "name": "stdout",
          "text": [
            "{'近戰': {'atk': 80, 'hp': 1300, 'def': 16}, '遠程': {'atk': 120, 'hp': 485, 'def': 0}}\n"
          ]
        }
      ]
    },
    {
      "cell_type": "code",
      "source": [
        "amy={\"math\":90,\"language\":95}\n",
        "betty={\"math\":100,\"langiage\":97}\n",
        "cindy={\"math\":85,\"language\":88}\n",
        "dora={\"math\":77,\"language\":90}\n",
        "eva={\"math\":93,\"language\":91}\n",
        "\n",
        "score={\"21\":amy,\"22\":betty,\"23\":cindy,\"24\":dora,\"25\":eva}\n",
        "print(score)"
      ],
      "metadata": {
        "colab": {
          "base_uri": "https://localhost:8080/"
        },
        "id": "1pT6uXl2elY0",
        "outputId": "5327abea-165d-4c1d-ab43-b6f11ac0c9a8"
      },
      "execution_count": 9,
      "outputs": [
        {
          "output_type": "stream",
          "name": "stdout",
          "text": [
            "{'21': {'math': 90, 'language': 95}, '22': {'math': 100, 'langiage': 97}, '23': {'math': 85, 'language': 88}, '24': {'math': 77, 'language': 90}, '25': {'math': 93, 'language': 91}}\n"
          ]
        }
      ]
    }
  ]
}